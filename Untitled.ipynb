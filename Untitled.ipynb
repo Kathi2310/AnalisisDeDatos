{
 "cells": [
  {
   "cell_type": "code",
   "execution_count": 1,
   "id": "9e242b2a",
   "metadata": {},
   "outputs": [],
   "source": [
    "num1 = 0\n",
    "num2 = 0\n",
    "suma = 0"
   ]
  },
  {
   "cell_type": "code",
   "execution_count": 3,
   "id": "926eb455",
   "metadata": {},
   "outputs": [],
   "source": [
    "suma = num1+num2\n"
   ]
  },
  {
   "cell_type": "code",
   "execution_count": 4,
   "id": "3fa98a69",
   "metadata": {},
   "outputs": [
    {
     "data": {
      "text/plain": [
       "0"
      ]
     },
     "execution_count": 4,
     "metadata": {},
     "output_type": "execute_result"
    }
   ],
   "source": [
    "suma\n"
   ]
  },
  {
   "cell_type": "code",
   "execution_count": 5,
   "id": "a13c2aa2",
   "metadata": {},
   "outputs": [
    {
     "name": "stdout",
     "output_type": "stream",
     "text": [
      "0\n"
     ]
    }
   ],
   "source": [
    "print(suma)"
   ]
  },
  {
   "cell_type": "code",
   "execution_count": null,
   "id": "3e2a3a71",
   "metadata": {},
   "outputs": [],
   "source": []
  }
 ],
 "metadata": {
  "kernelspec": {
   "display_name": "Python 3 (ipykernel)",
   "language": "python",
   "name": "python3"
  },
  "language_info": {
   "codemirror_mode": {
    "name": "ipython",
    "version": 3
   },
   "file_extension": ".py",
   "mimetype": "text/x-python",
   "name": "python",
   "nbconvert_exporter": "python",
   "pygments_lexer": "ipython3",
   "version": "3.10.9"
  }
 },
 "nbformat": 4,
 "nbformat_minor": 5
}
